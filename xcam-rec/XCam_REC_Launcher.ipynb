{
  "nbformat": 4,
  "nbformat_minor": 0,
  "metadata": {
    "colab": {
      "provenance": [],
      "include_colab_link": true
    },
    "kernelspec": {
      "name": "python3",
      "display_name": "Python 3"
    },
    "language_info": {
      "name": "python"
    }
  },
  "cells": [
    {
      "cell_type": "markdown",
      "metadata": {
        "id": "view-in-github",
        "colab_type": "text"
      },
      "source": [
        "<a href=\"https://colab.research.google.com/github/SamuelPassamani/XCam/blob/main/xcam-rec/XCam_REC_Launcher.ipynb\" target=\"_parent\"><img src=\"https://colab.research.google.com/assets/colab-badge.svg\" alt=\"Open In Colab\"/></a>"
      ]
    },
    {
      "cell_type": "markdown",
      "source": [
        "# 🚀 XCam REC Engine - Lançador Modular\n",
        "---\n",
        "**@titulo:** XCam_REC_Launcher.ipynb\n",
        "\n",
        "**@author:** Samuel Passamani / Um Projeto do Estudio A.Sério [AllS Company]\n",
        "\n",
        "**@info:** https://aserio.work/\n",
        "\n",
        "**@version:** 1.3.0\n",
        "\n",
        "**@lastupdate:** 2025-07-14\n",
        "\n",
        "**@description:** Este notebook serve como uma interface de usuário amigável para o projeto XCam Rec. Ele automatiza o processo de clonar (ou atualizar) o repositório, instalar as dependências necessárias e executar o script principal (`main.py`) com parâmetros configuráveis através de um formulário interativo. Combina a simplicidade de uso do Colab com a robustez de uma arquitetura de software modular."
      ],
      "metadata": {
        "id": "header_cell"
      }
    },
    {
      "cell_type": "markdown",
      "source": [
        "### ⚙️ Etapa 1: Preparação do Ambiente\n",
        "\n",
        "Esta célula executa três ações essenciais:\n",
        "1.  **Monta o seu Google Drive**: Para que o nosso script possa aceder à pasta de configuração e salvar os logs e arquivos.\n",
        "2.  **Clona ou Atualiza o Repositório**: Se o projeto `XCam` ainda não existir no seu Drive, ele será clonado do GitHub. Se já existir, ele será atualizado para a versão mais recente.\n",
        "3.  **Instala as Dependências**: Lê o arquivo `requirements.txt` e instala todas as bibliotecas Python necessárias para a execução."
      ],
      "metadata": {
        "id": "setup_explanation"
      }
    },
    {
      "cell_type": "code",
      "source": [
        "from google.colab import drive\n",
        "import os\n",
        "import sys\n",
        "\n",
        "# Monta o Google Drive\n",
        "print(\"🛰️  Montando o Google Drive...\")\n",
        "drive.mount('/content/drive')\n",
        "print(\"✅ Google Drive montado em /content/drive.\")\n",
        "\n",
        "# Define o caminho base e o caminho do projeto\n",
        "GDRIVE_BASE_PATH = \"/content/drive/MyDrive\"\n",
        "PROJECT_PATH = os.path.join(GDRIVE_BASE_PATH, \"XCam\")\n",
        "REC_ENGINE_PATH = os.path.join(PROJECT_PATH, \"xcam-rec\")\n",
        "\n",
        "# Adiciona o diretório do motor de gravação ao path do sistema para importar o config\n",
        "if REC_ENGINE_PATH not in sys.path:\n",
        "    sys.path.append(REC_ENGINE_PATH)\n",
        "\n",
        "# Verifica se o projeto já existe para clonar ou atualizar\n",
        "if not os.path.exists(PROJECT_PATH):\n",
        "    print(f\"📂 Projeto não encontrado. Clonando de https://github.com/SamuelPassamani/XCam.git para {GDRIVE_BASE_PATH}...\")\n",
        "    os.chdir(GDRIVE_BASE_PATH)\n",
        "    !git clone https://github.com/SamuelPassamani/XCam.git\n",
        "else:\n",
        "    print(\"🔄 Projeto já existe. Atualizando para a versão mais recente...\")\n",
        "    os.chdir(PROJECT_PATH)\n",
        "    !git pull origin main\n",
        "\n",
        "# Navega para o diretório do nosso motor de gravação\n",
        "print(f\"🧭 Navegando para o diretório do motor de gravação: {REC_ENGINE_PATH}\")\n",
        "os.chdir(REC_ENGINE_PATH)\n",
        "\n",
        "# Instala as dependências do projeto\n",
        "print(\"🐍 Instalando dependências a partir de requirements.txt...\")\n",
        "!pip install -q -r requirements.txt\n",
        "print(\"✅ Ambiente pronto para execução.\")"
      ],
      "metadata": {
        "id": "setup_code_cell"
      },
      "execution_count": null,
      "outputs": []
    },
    {
      "cell_type": "markdown",
      "source": [
        "### ▶️ Etapa 2: Executar o XCam Rec Engine\n",
        "\n",
        "Utilize o formulário abaixo para configurar os parâmetros da execução. Se deixar um campo em branco, os valores padrão do ficheiro `config.py` serão utilizados. Após ajustar os valores, execute esta célula para iniciar o processo de gravação."
      ],
      "metadata": {
        "id": "execution_explanation"
      }
    },
    {
      "cell_type": "code",
      "source": [
        "#@title Iniciar o Motor de Gravação\n",
        "#@markdown ---\n",
        "#@markdown ### ⚙️ Configurações de Execução:\n",
        "#@markdown Deixe os campos em branco para usar os valores padrão definidos em `config.py`.\n",
        "\n",
        "import config\n",
        "\n",
        "# --- Definição dos Campos do Formulário ---\n",
        "Pagina = 1 #@param {type:\"raw\"}\n",
        "Limite = 1000 #@param {type:\"raw\"}\n",
        "Trabalhadores = 50 #@param {type:\"raw\"}\n",
        "Duracao_Maxima_s = 7200 #@param {type:\"raw\"}\n",
        "Duracao_Minima_s = 420 #@param {type:\"raw\"}\n",
        "Pais = \"\" #@param {type:\"string\"}\n",
        "\n",
        "# --- Validação e Definição de Valores Padrão ---\n",
        "# Esta lógica verifica se o utilizador inseriu um valor. Se não, busca o valor padrão no config.py.\n",
        "print(\"⚙️  Validando configurações...\")\n",
        "\n",
        "# Converte para inteiro, tratando o tipo 'raw' que pode ser None ou string vazia.\n",
        "final_page = int(Pagina) if Pagina is not None and str(Pagina).strip() != '' else config.DEFAULT_EXECUTION_SETTINGS['API_PARAMS']['page']\n",
        "final_limit = int(Limite) if Limite is not None and str(Limite).strip() != '' else config.DEFAULT_EXECUTION_SETTINGS['API_PARAMS']['limit']\n",
        "final_workers = int(Trabalhadores) if Trabalhadores is not None and str(Trabalhadores).strip() != '' else 5 # O config não tem workers, mantemos um padrão aqui.\n",
        "final_max_duration = int(Duracao_Maxima_s) if Duracao_Maxima_s is not None and str(Duracao_Maxima_s).strip() != '' else config.DEFAULT_EXECUTION_SETTINGS['MAX_DURATION_SECONDS']\n",
        "final_min_duration = int(Duracao_Minima_s) if Duracao_Minima_s is not None and str(Duracao_Minima_s).strip() != '' else config.DEFAULT_EXECUTION_SETTINGS['MIN_DURATION_SECONDS']\n",
        "final_country = Pais.strip() if Pais else config.DEFAULT_EXECUTION_SETTINGS['API_PARAMS']['country']\n",
        "\n",
        "print(\"    - Página da API: \", final_page)\n",
        "print(\"    - Limite de Modelos: \", final_limit)\n",
        "print(\"    - Trabalhadores: \", final_workers)\n",
        "print(f\"    - Duração Máxima: {final_max_duration}s\")\n",
        "print(f\"    - Duração Mínima: {final_min_duration}s\")\n",
        "print(f\"    - País: '{final_country if final_country else 'Todos'}'\")\n",
        "\n",
        "# Constrói o comando de execução dinamicamente com os argumentos corretos.\n",
        "command = (\n",
        "    f\"python main.py \"\n",
        "    f\"--page {final_page} \"\n",
        "    f\"--limit {final_limit} \"\n",
        "    f\"--workers {final_workers} \"\n",
        "    f\"--max-duration {final_max_duration} \"\n",
        "    f\"--min-duration {final_min_duration}\"\n",
        ")\n",
        "\n",
        "# Adiciona o parâmetro de país apenas se ele for preenchido.\n",
        "if final_country:\n",
        "    command += f\" --country {final_country}\"\n",
        "\n",
        "# Imprime o comando final que será executado para fins de depuração.\n",
        "print(\"-\"*50)\n",
        "print(f\"🚀 Executando comando: {command}\")\n",
        "print(\"-\"*50)\n",
        "\n",
        "# Executa o script main.py com os argumentos configurados.\n",
        "!{command}"
      ],
      "metadata": {
        "id": "execution_code_cell"
      },
      "execution_count": null,
      "outputs": []
    },
    {
      "cell_type": "markdown",
      "source": [
        "---\n",
        "### 📜 Histórico de Mudanças e Roadmap\n",
        "\n",
        "**@log de mudanças:**\n",
        "* **2025-07-14 (v1.3.0):**\n",
        "    * FEATURE: Adicionados os campos `Duração Máxima (s)` e `Duração Mínima (s)` ao formulário.\n",
        "    * REFACTOR: O formulário agora busca os valores padrão diretamente do `config.py` se os campos forem deixados em branco.\n",
        "    * REFACTOR: Os rótulos do formulário foram traduzidos para Português e capitalizados.\n",
        "    * REFACTOR: O comando de execução foi atualizado para usar os argumentos `--max-duration` e `--min-duration`.\n",
        "* **2025-07-13 (v1.2.0):**\n",
        "    * MELHORIA: Adicionada lógica para usar valores padrão se os campos do formulário fossem deixados em branco.\n",
        "* **2025-07-13 (v1.1.0):**\n",
        "    * CORREÇÃO: O argumento de linha de comando `--pages` foi corrigido para `--page`.\n",
        "* **2025-07-13 (v1.0.0):**\n",
        "    * Criação inicial do `XCam_Rec_Launcher.ipynb`.\n",
        "\n",
        "**@roadmap futuro:**\n",
        "* Adicionar um campo de formulário para permitir a gravação de uma lista de usuários específicos.\n",
        "* Integrar uma célula opcional para exibir o conteúdo do arquivo de log (`xcam_recorder.log`) diretamente no notebook.\n",
        "* Criar uma célula para fazer o \"commit\" e \"push\" das alterações nos arquivos `rec.json`."
      ],
      "metadata": {
        "id": "footer_cell"
      }
    }
  ]
}