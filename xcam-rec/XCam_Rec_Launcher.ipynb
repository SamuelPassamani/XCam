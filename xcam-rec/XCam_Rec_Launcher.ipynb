{
  "nbformat": 4,
  "nbformat_minor": 0,
  "metadata": {
    "colab": {
      "provenance": []
    },
    "kernelspec": {
      "name": "python3",
      "display_name": "Python 3"
    },
    "language_info": {
      "name": "python"
    }
  },
  "cells": [
    {
      "cell_type": "markdown",
      "source": [
        "# 🚀 XCam REC Engine - Lançador Modular\n",
        "---\n",
        "**@titulo:** XCam_Rec_Launcher.ipynb\n",
        "**@author:** Samuel Passamani / Um Projeto do Estudio A.Sério [AllS Company]\n",
        "**@info:** https://aserio.work/\n",
        "**@version:** 1.0.0\n",
        "**@lastupdate:** 2025-07-13\n",
        "**@description:** Este notebook serve como uma interface de usuário amigável para o projeto XCam Rec. Ele automatiza o processo de clonar (ou atualizar) o repositório, instalar as dependências necessárias e executar o script principal (`main.py`) com parâmetros configuráveis através de um formulário interativo. Combina a simplicidade de uso do Colab com a robustez de uma arquitetura de software modular."
      ],
      "metadata": {
        "id": "header_cell"
      }
    },
    {
      "cell_type": "markdown",
      "source": [
        "### ⚙️ Etapa 1: Preparação do Ambiente\n",
        "\n",
        "Esta célula executa três ações essenciais:\n",
        "1.  **Monta o seu Google Drive**: Para que o nosso script possa aceder à pasta de configuração e salvar os logs e arquivos.\n",
        "2.  **Clona ou Atualiza o Repositório**: Se o projeto `XCam` ainda não existir no seu Drive, ele será clonado do GitHub. Se já existir, ele será atualizado para a versão mais recente.\n",
        "3.  **Instala as Dependências**: Lê o arquivo `requirements.txt` e instala todas as bibliotecas Python necessárias para a execução."
      ],
      "metadata": {
        "id": "setup_explanation"
      }
    },
    {
      "cell_type": "code",
      "source": [
        "from google.colab import drive\n",
        "import os\n",
        "\n",
        "# Monta o Google Drive\n",
        "print(\"🛰️  Montando o Google Drive...\")\n",
        "drive.mount('/content/drive')\n",
        "print(\"✅ Google Drive montado em /content/drive.\")\n",
        "\n",
        "# Define o caminho base e o caminho do projeto\n",
        "GDRIVE_BASE_PATH = \"/content/drive/MyDrive\"\n",
        "PROJECT_PATH = os.path.join(GDRIVE_BASE_PATH, \"XCam\")\n",
        "REC_ENGINE_PATH = os.path.join(PROJECT_PATH, \"xcam-rec\")\n",
        "\n",
        "# Verifica se o projeto já existe para clonar ou atualizar\n",
        "if not os.path.exists(PROJECT_PATH):\n",
        "    print(f\"📂 Projeto não encontrado. Clonando de https://github.com/SamuelPassamani/XCam.git para {GDRIVE_BASE_PATH}...\")\n",
        "    os.chdir(GDRIVE_BASE_PATH) # Muda para o diretório base para clonar\n",
        "    !git clone https://github.com/SamuelPassamani/XCam.git\n",
        "else:\n",
        "    print(\"🔄 Projeto já existe. Atualizando para a versão mais recente...\")\n",
        "    os.chdir(PROJECT_PATH) # Muda para o diretório do projeto para atualizar\n",
        "    !git pull origin main\n",
        "\n",
        "# Navega para o diretório do nosso motor de gravação\n",
        "print(f\"Navigate to REC Engine directory: {REC_ENGINE_PATH}\")\n",
        "os.chdir(REC_ENGINE_PATH)\n",
        "\n",
        "# Instala as dependências do projeto\n",
        "print(\"🐍 Instalando dependências a partir de requirements.txt...\")\n",
        "!pip install -r requirements.txt\n",
        "print(\"✅ Ambiente pronto para execução.\")"
      ],
      "metadata": {
        "id": "setup_code_cell"
      },
      "execution_count": null,
      "outputs": []
    },
    {
      "cell_type": "markdown",
      "source": [
        "### ▶️ Etapa 2: Executar o XCam Rec Engine\n",
        "\n",
        "Utilize o formulário abaixo para configurar os parâmetros da execução. Após ajustar os valores, execute esta célula para iniciar o processo de gravação."
      ],
      "metadata": {
        "id": "execution_explanation"
      }
    },
    {
      "cell_type": "code",
      "source": [
        "#@title Iniciar o Motor de Gravação\n",
        "#@markdown --- \n",
        "#@markdown ### ⚙️ Configurações de Execução:\n",
        "\n",
        "# Parâmetros configuráveis através do formulário do Colab.\n",
        "page = 2 #@param {type:\"integer\", min:1, max:10}\n",
        "limit = 50 #@param {type:\"integer\", min:1, max:100}\n",
        "workers = 5 #@param {type:\"integer\", min:1, max:20}\n",
        "duration = 120 #@param {type:\"integer\", min:30, max:3600}\n",
        "country = \"\" #@param {type:\"string\"}\n",
        "\n",
        "# Constrói o comando de execução dinamicamente com base nos parâmetros do formulário.\n",
        "command = (\n",
        "    f\"python main.py \"\n",
        "    f\"--page {page} \"\n",
        "    f\"--limit {limit} \"\n",
        "    f\"--workers {workers} \"\n",
        "    f\"--duration {duration}\"\n",
        ")\n",
        "\n",
        "# Adiciona o parâmetro de país apenas se ele for preenchido.\n",
        "if country:\n",
        "    command += f\" --country {country}\"\n",
        "\n",
        "# Imprime o comando que será executado para fins de depuração.\n",
        "print(f\"🚀 Executando comando: {command}\")\n",
        "print(\"-\"*50)\n",
        "\n",
        "# Executa o script main.py com os argumentos configurados.\n",
        "# O output do script (nossos logs) será exibido abaixo.\n",
        "!{command}"
      ],
      "metadata": {
        "id": "execution_code_cell"
      },
      "execution_count": null,
      "outputs": []
    },
    {
      "cell_type": "markdown",
      "source": [
        "---\n",
        "### 📜 Histórico de Mudanças e Roadmap\n",
        "\n",
        "**@log de mudanças:**\n",
        "* **2025-07-13 (v1.0.0):**\n",
        "    * Criação inicial do `XCam_Rec_Launcher.ipynb`.\n",
        "    * Implementação da lógica para montar o Drive, clonar/atualizar o repositório e instalar dependências.\n",
        "    * Adição de formulário interativo para configurar e executar o `main.py`.\n",
        "\n",
        "**@roadmap futuro:**\n",
        "* Adicionar um campo de formulário para permitir a gravação de uma lista de usuários específicos.\n",
        "* Integrar uma célula opcional para exibir o conteúdo do arquivo de log (`xcam_rec.log`) diretamente no notebook após a execução.\n",
        "* Criar uma célula para fazer o \"commit\" e \"push\" das alterações nos arquivos `rec.json` de volta para o repositório GitHub, completando o ciclo do \"Git-as-a-Database\"."
      ],
      "metadata": {
        "id": "footer_cell"
      }
    }
  ]
}
